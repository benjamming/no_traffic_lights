{
 "cells": [
  {
   "cell_type": "code",
   "execution_count": 44,
   "metadata": {},
   "outputs": [],
   "source": [
    "import pandas as pd\n",
    "from os import path\n",
    "import os\n",
    "\n",
    "#DATA_IN = \"../../data/raw/semi-raw_data.csv\"\n",
    "DATA_IN = \"../../data/raw/Jefferson_County_KY_Signalized_Intersections.csv\"\n",
    "CSV_OUT = \"../../data/clean/Jefferson_County_KY_Signalized_Intersections.csv\"\n",
    "assert path.exists(DATA_IN)\n",
    "\n",
    "df=pd.read_csv(DATA_IN)"
   ]
  },
  {
   "cell_type": "code",
   "execution_count": 45,
   "metadata": {},
   "outputs": [
    {
     "data": {
      "text/plain": [
       "Index(['X', 'Y', 'OBJECTID', 'UNITID', 'SIGID', 'MAINSTREET', 'CROSSSTREET',\n",
       "       'OWNER2', 'ROUTE', 'MILEPOINT', 'DESCRIPTION', 'TIMES', 'OWNER', 'TYPE',\n",
       "       'INTID', 'ATMSID'],\n",
       "      dtype='object')"
      ]
     },
     "execution_count": 45,
     "metadata": {},
     "output_type": "execute_result"
    }
   ],
   "source": [
    "df.columns\n",
    "\n"
   ]
  },
  {
   "cell_type": "code",
   "execution_count": 62,
   "metadata": {},
   "outputs": [],
   "source": [
    "keepers = ['X', 'Y', 'MAINSTREET', 'CROSSSTREET', 'DESCRIPTION', 'INTID', 'OBJECTID']\n",
    "dropping = set(df.columns).difference(keepers)\n",
    "\n",
    "renames = {'X':\"longitude\",\n",
    "        'Y':'latitude',\n",
    "        'MAINSTREET':'main_street', \n",
    "        'CROSSSTREET':'cross_street', \n",
    "        'DESCRIPTION':'description', \n",
    "        'INTID':'intid', \n",
    "        'OBJECTID':'objectid'}\n",
    "\n",
    "dropped = df.drop(dropping, axis=1)\n",
    "renamed = dropped.rename(renames, axis=1)\n",
    "\n",
    "renamed.intid = renamed.intid.str.strip()\n"
   ]
  },
  {
   "cell_type": "code",
   "execution_count": 75,
   "metadata": {},
   "outputs": [
    {
     "data": {
      "text/plain": [
       "intid\n",
       "2                23\n",
       "1604203842663     1\n",
       "244589126D886     1\n",
       "2785299966026     1\n",
       "2785199966026     1\n",
       "                 ..\n",
       "375906564154      1\n",
       "418544927132      1\n",
       "436629017132      1\n",
       "508029305629      1\n",
       "1217075539999     1\n",
       "Name: count, Length: 1048, dtype: int64"
      ]
     },
     "execution_count": 75,
     "metadata": {},
     "output_type": "execute_result"
    }
   ],
   "source": [
    "\n",
    "int_id_counts = renamed.intid.value_counts()\n",
    "repeat_ids = int_id_counts[int_id_counts > 1]\n",
    "id_2 = '2'\n",
    "id_not2 = repeat_ids.index[1:]\n",
    "\n",
    "discard = list()\n",
    "for id in id_not2:\n",
    "    D = renamed[renamed.intid == id]\n",
    "    discard.extend(D.index[1:])\n",
    "discard\n",
    "\n",
    "filtered = renamed.drop(discard)\n",
    "filtered.intid.value_counts()"
   ]
  },
  {
   "cell_type": "code",
   "execution_count": 91,
   "metadata": {},
   "outputs": [
    {
     "ename": "AssertionError",
     "evalue": "",
     "output_type": "error",
     "traceback": [
      "\u001b[0;31m---------------------------------------------------------------------------\u001b[0m",
      "\u001b[0;31mAssertionError\u001b[0m                            Traceback (most recent call last)",
      "Cell \u001b[0;32mIn[91], line 1\u001b[0m\n\u001b[0;32m----> 1\u001b[0m \u001b[38;5;28;01massert\u001b[39;00m \u001b[38;5;129;01mnot\u001b[39;00m \u001b[38;5;28mbool\u001b[39m(\u001b[38;5;28mset\u001b[39m(filtered\u001b[38;5;241m.\u001b[39mobjectid) \u001b[38;5;241m&\u001b[39m \u001b[38;5;28mset\u001b[39m(filtered\u001b[38;5;241m.\u001b[39mintid))\n\u001b[1;32m      2\u001b[0m id2 \u001b[38;5;241m=\u001b[39m filtered[filtered\u001b[38;5;241m.\u001b[39mintid \u001b[38;5;241m==\u001b[39m \u001b[38;5;124m'\u001b[39m\u001b[38;5;124m2\u001b[39m\u001b[38;5;124m'\u001b[39m]\n\u001b[1;32m      3\u001b[0m filtered\u001b[38;5;241m.\u001b[39mloc[id2\u001b[38;5;241m.\u001b[39mindex, \u001b[38;5;124m'\u001b[39m\u001b[38;5;124mintid\u001b[39m\u001b[38;5;124m'\u001b[39m] \u001b[38;5;241m=\u001b[39m filtered\u001b[38;5;241m.\u001b[39mobjectid\n",
      "\u001b[0;31mAssertionError\u001b[0m: "
     ]
    }
   ],
   "source": [
    "assert not bool(set(filtered.objectid) & set(filtered.intid))\n",
    "id2 = filtered[filtered.intid == '2']\n",
    "filtered.loc[id2.index, 'intid'] = filtered.objectid"
   ]
  },
  {
   "cell_type": "code",
   "execution_count": 93,
   "metadata": {},
   "outputs": [
    {
     "data": {
      "text/plain": [
       "intid\n",
       "76747569996      1\n",
       "1604604172663    1\n",
       "2785199966026    1\n",
       "2775445534815    1\n",
       "379827122930     1\n",
       "                ..\n",
       "418544927132     1\n",
       "436629017132     1\n",
       "508029305629     1\n",
       "529007234084     1\n",
       "1217075539999    1\n",
       "Name: count, Length: 1070, dtype: int64"
      ]
     },
     "execution_count": 93,
     "metadata": {},
     "output_type": "execute_result"
    }
   ],
   "source": [
    "filtered.intid.value_counts()"
   ]
  },
  {
   "cell_type": "code",
   "execution_count": 48,
   "metadata": {},
   "outputs": [],
   "source": [
    "\n",
    "# Deal with duplicated intids != '2'\n",
    "duplicate_intids = renamed[(renamed['intid ct'] > 1) & (renamed['intid'] != '2')].intid.unique()\n",
    "\n",
    "duplicates = list()\n",
    "for id in duplicate_intids:\n",
    "    u = renamed[renamed.intid==id]\n",
    "    duplicates.append(u.iloc[1].name)\n",
    "\n",
    "U = renamed.loc[duplicates].intid.apply(lambda x:f\"{x}_2\")\n",
    "#renamed.intid.update(U)"
   ]
  },
  {
   "cell_type": "code",
   "execution_count": 49,
   "metadata": {},
   "outputs": [
    {
     "data": {
      "text/plain": [
       "intid\n",
       "2                23\n",
       "2183216123540     3\n",
       "1606703843932     3\n",
       "1674018857012     2\n",
       "1379703840617     2\n",
       "                 ..\n",
       "418544927132      1\n",
       "436629017132      1\n",
       "508029305629      1\n",
       "529007234084      1\n",
       "1217075539999     1\n",
       "Name: count, Length: 1048, dtype: int64"
      ]
     },
     "execution_count": 49,
     "metadata": {},
     "output_type": "execute_result"
    }
   ],
   "source": [
    "renamed.intid.value_counts()"
   ]
  }
 ],
 "metadata": {
  "kernelspec": {
   "display_name": "venv",
   "language": "python",
   "name": "python3"
  },
  "language_info": {
   "codemirror_mode": {
    "name": "ipython",
    "version": 3
   },
   "file_extension": ".py",
   "mimetype": "text/x-python",
   "name": "python",
   "nbconvert_exporter": "python",
   "pygments_lexer": "ipython3",
   "version": "3.11.1"
  }
 },
 "nbformat": 4,
 "nbformat_minor": 2
}
