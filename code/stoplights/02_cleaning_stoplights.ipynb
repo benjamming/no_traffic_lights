{
 "cells": [
  {
   "cell_type": "code",
   "execution_count": 21,
   "metadata": {},
   "outputs": [
    {
     "data": {
      "text/plain": [
       "1091"
      ]
     },
     "execution_count": 21,
     "metadata": {},
     "output_type": "execute_result"
    }
   ],
   "source": [
    "import pandas as pd\n",
    "from os import path\n",
    "import os\n",
    "\n",
    "#DATA_IN = \"../../data/raw/semi-raw_data.csv\"\n",
    "DATA_IN = \"../../data/raw/Jefferson_County_KY_Signalized_Intersections.csv\"\n",
    "CSV_OUT = \"../../data/clean/Jefferson_County_KY_Signalized_Intersections.csv\"\n",
    "assert path.exists(DATA_IN)\n",
    "\n",
    "df=pd.read_csv(DATA_IN)\n",
    "\n",
    "len(df)"
   ]
  },
  {
   "cell_type": "code",
   "execution_count": 2,
   "metadata": {},
   "outputs": [
    {
     "data": {
      "text/plain": [
       "Index(['X', 'Y', 'OBJECTID', 'UNITID', 'SIGID', 'MAINSTREET', 'CROSSSTREET',\n",
       "       'OWNER2', 'ROUTE', 'MILEPOINT', 'DESCRIPTION', 'TIMES', 'OWNER', 'TYPE',\n",
       "       'INTID', 'ATMSID'],\n",
       "      dtype='object')"
      ]
     },
     "execution_count": 2,
     "metadata": {},
     "output_type": "execute_result"
    }
   ],
   "source": [
    "df.columns\n",
    "\n"
   ]
  },
  {
   "cell_type": "code",
   "execution_count": 3,
   "metadata": {},
   "outputs": [],
   "source": [
    "keepers = ['X', 'Y', 'MAINSTREET', 'CROSSSTREET', 'DESCRIPTION', 'INTID', 'OBJECTID']\n",
    "dropping = set(df.columns).difference(keepers)\n",
    "\n",
    "renames = {'X':\"longitude\",\n",
    "        'Y':'latitude',\n",
    "        'MAINSTREET':'main_street', \n",
    "        'CROSSSTREET':'cross_street', \n",
    "        'DESCRIPTION':'description', \n",
    "        'INTID':'intid', \n",
    "        'OBJECTID':'objectid'}\n",
    "\n",
    "dropped = df.drop(dropping, axis=1)\n",
    "renamed = dropped.rename(renames, axis=1)\n",
    "\n",
    "renamed.intid = renamed.intid.str.strip()\n"
   ]
  },
  {
   "cell_type": "code",
   "execution_count": 4,
   "metadata": {},
   "outputs": [
    {
     "data": {
      "text/plain": [
       "intid\n",
       "2                23\n",
       "1604203842663     1\n",
       "244589126D886     1\n",
       "2785299966026     1\n",
       "2785199966026     1\n",
       "                 ..\n",
       "375906564154      1\n",
       "418544927132      1\n",
       "436629017132      1\n",
       "508029305629      1\n",
       "1217075539999     1\n",
       "Name: count, Length: 1048, dtype: int64"
      ]
     },
     "execution_count": 4,
     "metadata": {},
     "output_type": "execute_result"
    }
   ],
   "source": [
    "\n",
    "int_id_counts = renamed.intid.value_counts()\n",
    "repeat_ids = int_id_counts[int_id_counts > 1]\n",
    "id_2 = '2'\n",
    "id_not2 = repeat_ids.index[1:]\n",
    "\n",
    "discard = list()\n",
    "for id in id_not2:\n",
    "    D = renamed[renamed.intid == id]\n",
    "    discard.extend(D.index[1:])\n",
    "discard\n",
    "\n",
    "filtered = renamed.drop(discard)\n",
    "filtered.intid.value_counts()"
   ]
  },
  {
   "cell_type": "code",
   "execution_count": 11,
   "metadata": {},
   "outputs": [],
   "source": [
    "#assert not bool(set(filtered.objectid) & set(filtered.intid))\n",
    "id2 = filtered[filtered.intid == '2']\n",
    "clean = filtered.copy()\n",
    "clean.loc[id2.index, 'intid'] = filtered.objectid\n",
    "clean = clean.set_index(\"intid\")"
   ]
  },
  {
   "cell_type": "markdown",
   "metadata": {},
   "source": [
    "### Write out clean data to CSV\n",
    "\n",
    "Run all to write file\n",
    "Late cell does the writing step"
   ]
  },
  {
   "cell_type": "code",
   "execution_count": 22,
   "metadata": {},
   "outputs": [
    {
     "data": {
      "text/plain": [
       "1070"
      ]
     },
     "execution_count": 22,
     "metadata": {},
     "output_type": "execute_result"
    }
   ],
   "source": [
    "cleaned = clean[['main_street', 'cross_street', 'longitude', 'latitude', 'description']]\n",
    "len(cleaned)"
   ]
  },
  {
   "cell_type": "code",
   "execution_count": null,
   "metadata": {},
   "outputs": [],
   "source": [
    "\n",
    "cleaned.to_csv(CSV_OUT)"
   ]
  }
 ],
 "metadata": {
  "kernelspec": {
   "display_name": "venv",
   "language": "python",
   "name": "python3"
  },
  "language_info": {
   "codemirror_mode": {
    "name": "ipython",
    "version": 3
   },
   "file_extension": ".py",
   "mimetype": "text/x-python",
   "name": "python",
   "nbconvert_exporter": "python",
   "pygments_lexer": "ipython3",
   "version": "3.11.1"
  }
 },
 "nbformat": 4,
 "nbformat_minor": 2
}
