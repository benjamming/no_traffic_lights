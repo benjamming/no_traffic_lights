{
 "cells": [
  {
   "cell_type": "code",
   "execution_count": 5,
   "metadata": {},
   "outputs": [],
   "source": [
    "import geopandas as geo\n",
    "import pandas as pd\n",
    "\n",
    "import os\n",
    "from os import path\n",
    "\n",
    "# This is pulling data from a source that is not tracked by this repository. \n",
    "# TODO write instructions to get the data\n",
    "# meanwhile:\n",
    "\n",
    "FILENAME = \"Jefferson_County_KY_Signalized_Intersections/Jefferson_County_KY_Signalized_Intersections.shp\"\n",
    "PREFIX = \"../../data/raw/do_not_track\"\n",
    "FILEPATH = path.join(PREFIX, FILENAME)\n"
   ]
  },
  {
   "cell_type": "code",
   "execution_count": 6,
   "metadata": {},
   "outputs": [
    {
     "data": {
      "text/html": [
       "<div>\n",
       "<style scoped>\n",
       "    .dataframe tbody tr th:only-of-type {\n",
       "        vertical-align: middle;\n",
       "    }\n",
       "\n",
       "    .dataframe tbody tr th {\n",
       "        vertical-align: top;\n",
       "    }\n",
       "\n",
       "    .dataframe thead th {\n",
       "        text-align: right;\n",
       "    }\n",
       "</style>\n",
       "<table border=\"1\" class=\"dataframe\">\n",
       "  <thead>\n",
       "    <tr style=\"text-align: right;\">\n",
       "      <th></th>\n",
       "      <th>OBJECTID</th>\n",
       "      <th>UNITID</th>\n",
       "      <th>SIGID</th>\n",
       "      <th>MAINSTREET</th>\n",
       "      <th>CROSSSTREE</th>\n",
       "      <th>OWNER2</th>\n",
       "      <th>ROUTE</th>\n",
       "      <th>MILEPOINT</th>\n",
       "      <th>DESCRIPTIO</th>\n",
       "      <th>TIMES</th>\n",
       "      <th>OWNER</th>\n",
       "      <th>TYPE</th>\n",
       "      <th>INTID</th>\n",
       "      <th>ATMSID</th>\n",
       "      <th>geometry</th>\n",
       "    </tr>\n",
       "  </thead>\n",
       "  <tbody>\n",
       "    <tr>\n",
       "      <th>0</th>\n",
       "      <td>1</td>\n",
       "      <td>MPW017206</td>\n",
       "      <td>SIG017206</td>\n",
       "      <td>OLD HENRY</td>\n",
       "      <td>I 265 RAMP</td>\n",
       "      <td>S</td>\n",
       "      <td>KY-3084</td>\n",
       "      <td>1.250</td>\n",
       "      <td>OLD HENRY @ I 265 RAMP</td>\n",
       "      <td>24 HOURS</td>\n",
       "      <td>KYTC</td>\n",
       "      <td>1</td>\n",
       "      <td>7674756999</td>\n",
       "      <td>NaN</td>\n",
       "      <td>POINT (-85.49934 38.27063)</td>\n",
       "    </tr>\n",
       "    <tr>\n",
       "      <th>1</th>\n",
       "      <td>2</td>\n",
       "      <td>MPW017211</td>\n",
       "      <td>SIG017211</td>\n",
       "      <td>SHELBYVILLE</td>\n",
       "      <td>BECKLEY WOODS</td>\n",
       "      <td>S</td>\n",
       "      <td>US 60</td>\n",
       "      <td>12.291</td>\n",
       "      <td>SHELBYVILLE @ BECKLEY WOODS</td>\n",
       "      <td>24 HOURS</td>\n",
       "      <td>KYTC</td>\n",
       "      <td>1</td>\n",
       "      <td>7895940672</td>\n",
       "      <td>NaN</td>\n",
       "      <td>POINT (-85.49848 38.24159)</td>\n",
       "    </tr>\n",
       "    <tr>\n",
       "      <th>2</th>\n",
       "      <td>3</td>\n",
       "      <td>MPW017290</td>\n",
       "      <td>SIG017290</td>\n",
       "      <td>SHELBYVILLE</td>\n",
       "      <td>LAKE FOREST</td>\n",
       "      <td>S</td>\n",
       "      <td>US-60</td>\n",
       "      <td>12.580</td>\n",
       "      <td>SHELBYVILLE @ LAKE FOREST</td>\n",
       "      <td>24 HOURS</td>\n",
       "      <td>KYTC</td>\n",
       "      <td>1</td>\n",
       "      <td>12375940763</td>\n",
       "      <td>NaN</td>\n",
       "      <td>POINT (-85.49355 38.24052)</td>\n",
       "    </tr>\n",
       "    <tr>\n",
       "      <th>3</th>\n",
       "      <td>4</td>\n",
       "      <td>MPW015159</td>\n",
       "      <td>SIG015159</td>\n",
       "      <td>BROWNSBORO</td>\n",
       "      <td>I 265 RAMP</td>\n",
       "      <td>S</td>\n",
       "      <td>KY-22</td>\n",
       "      <td>3.700</td>\n",
       "      <td>BROWNSBORO @ I 265 RAMP</td>\n",
       "      <td>24 HOURS</td>\n",
       "      <td>KYTC</td>\n",
       "      <td>1</td>\n",
       "      <td>14390724999</td>\n",
       "      <td>NaN</td>\n",
       "      <td>POINT (-85.57021 38.31100)</td>\n",
       "    </tr>\n",
       "    <tr>\n",
       "      <th>4</th>\n",
       "      <td>5</td>\n",
       "      <td>MPW011726</td>\n",
       "      <td>SIG011726</td>\n",
       "      <td>HERR</td>\n",
       "      <td>LIME KILN</td>\n",
       "      <td>S</td>\n",
       "      <td>KY-22</td>\n",
       "      <td>0.440</td>\n",
       "      <td>HERR @ LIME KILN</td>\n",
       "      <td>24 HOURS</td>\n",
       "      <td>KYTC</td>\n",
       "      <td>1</td>\n",
       "      <td>18422901386</td>\n",
       "      <td>NaN</td>\n",
       "      <td>POINT (-85.62797 38.28392)</td>\n",
       "    </tr>\n",
       "  </tbody>\n",
       "</table>\n",
       "</div>"
      ],
      "text/plain": [
       "   OBJECTID     UNITID      SIGID   MAINSTREET     CROSSSTREE OWNER2    ROUTE  \\\n",
       "0         1  MPW017206  SIG017206    OLD HENRY     I 265 RAMP      S  KY-3084   \n",
       "1         2  MPW017211  SIG017211  SHELBYVILLE  BECKLEY WOODS      S    US 60   \n",
       "2         3  MPW017290  SIG017290  SHELBYVILLE    LAKE FOREST      S    US-60   \n",
       "3         4  MPW015159  SIG015159   BROWNSBORO     I 265 RAMP      S    KY-22   \n",
       "4         5  MPW011726  SIG011726         HERR      LIME KILN      S    KY-22   \n",
       "\n",
       "   MILEPOINT                   DESCRIPTIO     TIMES OWNER TYPE        INTID  \\\n",
       "0      1.250       OLD HENRY @ I 265 RAMP  24 HOURS  KYTC    1   7674756999   \n",
       "1     12.291  SHELBYVILLE @ BECKLEY WOODS  24 HOURS  KYTC    1   7895940672   \n",
       "2     12.580    SHELBYVILLE @ LAKE FOREST  24 HOURS  KYTC    1  12375940763   \n",
       "3      3.700      BROWNSBORO @ I 265 RAMP  24 HOURS  KYTC    1  14390724999   \n",
       "4      0.440             HERR @ LIME KILN  24 HOURS  KYTC    1  18422901386   \n",
       "\n",
       "   ATMSID                    geometry  \n",
       "0     NaN  POINT (-85.49934 38.27063)  \n",
       "1     NaN  POINT (-85.49848 38.24159)  \n",
       "2     NaN  POINT (-85.49355 38.24052)  \n",
       "3     NaN  POINT (-85.57021 38.31100)  \n",
       "4     NaN  POINT (-85.62797 38.28392)  "
      ]
     },
     "execution_count": 6,
     "metadata": {},
     "output_type": "execute_result"
    }
   ],
   "source": [
    "df = geo.read_file(FILEPATH)\n",
    "df.head(5)"
   ]
  },
  {
   "cell_type": "code",
   "execution_count": null,
   "metadata": {},
   "outputs": [
    {
     "name": "stdout",
     "output_type": "stream",
     "text": [
      "<class 'geopandas.geodataframe.GeoDataFrame'>\n",
      "RangeIndex: 1091 entries, 0 to 1090\n",
      "Data columns (total 15 columns):\n",
      " #   Column      Non-Null Count  Dtype   \n",
      "---  ------      --------------  -----   \n",
      " 0   OBJECTID    1091 non-null   int64   \n",
      " 1   UNITID      1091 non-null   object  \n",
      " 2   SIGID       1091 non-null   object  \n",
      " 3   MAINSTREET  1091 non-null   object  \n",
      " 4   CROSSSTREE  1091 non-null   object  \n",
      " 5   OWNER2      1091 non-null   object  \n",
      " 6   ROUTE       750 non-null    object  \n",
      " 7   MILEPOINT   734 non-null    float64 \n",
      " 8   DESCRIPTIO  1090 non-null   object  \n",
      " 9   TIMES       1090 non-null   object  \n",
      " 10  OWNER       1091 non-null   object  \n",
      " 11  TYPE        1091 non-null   object  \n",
      " 12  INTID       1091 non-null   object  \n",
      " 13  ATMSID      1 non-null      float64 \n",
      " 14  geometry    1091 non-null   geometry\n",
      "dtypes: float64(2), geometry(1), int64(1), object(11)\n",
      "memory usage: 128.0+ KB\n"
     ]
    }
   ],
   "source": [
    "df.info()"
   ]
  },
  {
   "cell_type": "markdown",
   "metadata": {},
   "source": [
    "|column name | dtype | type | description | value notes | cleaning notes |\n",
    "|------------|-------|------|-------------|-------------|----------------|\n",
    "|OBJECTID|int64|int| Unique id for each stoplight | index | keep |\n",
    "|UNITID|object|alphanumeric|d| not all unique 1088 vs 1091 total records | |\n",
    "|SIGID|object| | | not all unique: ~ 1070 |c|\n",
    "|MAINSTREET|object|string| Name of main street | ~366 unique | keep; very important |\n",
    "|CROSSSTREE|object| string | Name of cross street |~450 unique: more than main street | keep; fix name |\n",
    "|OWNER|object|string| | 'KYTC', 'METRO', 'JEFFERSONTOWN', 'MIDDLETOWN' | keep |\n",
    "|OWNER2|object| string | | 'S', 'M', 'JT', 'MT' | duplicate? shortcode for OWNER? |\n",
    "|ROUTE|object|alphanumeric| Alphanumeric designator for roadway like KY-123 US-123 | some null | keep |\n",
    "|MILEPOINT|float64| float | Milepoint along roadway | some null | keep |\n",
    "|DESCRIPTIO|object|string| Compact string description of intersection: MAINSTREET @ CROSSTREE(T) | redundant? | probably discard but maybe useful if its not clear what ROUTE means |\n",
    "|TIMES|object|string| Appears to be a description of the operating hours for that light | Most are different versions of \"24 hours\", one is ACTUATED, some null | probably can ignore unless ACTUATED value is interesting|\n",
    "|TYPE|object|int| No idea | 1, 2, 3, 4. Most values are 1, 2nd least values are 2, etc. | figure out what this means. Is it tied to UNITID or SIGID? |\n",
    "|INTID|object| | Intersection ID? | ~1048 unique: cross reference with DESCRIPTIO(N), SIGID, etc | probably a good index |\n",
    "|ATMSID|float64||No idea|Most values are null/nan. Only one non null value. See below | probably drop. Maybe that record is interesting? times value is none|\n",
    "|geometry|geometry|POINT(Longitude, Latitude)| Approximate latitude, longitude coordinates of the intersection ||keep|\n",
    "\n",
    "RANDOM NOTE: Ever notice how similar are ACTUATED and ACTIVATED semantically and graphically? cf Roman V vs U. VVEIRD STUFF"
   ]
  },
  {
   "cell_type": "code",
   "execution_count": null,
   "metadata": {},
   "outputs": [
    {
     "data": {
      "text/plain": [
       "(1088, 1091)"
      ]
     },
     "execution_count": 5,
     "metadata": {},
     "output_type": "execute_result"
    }
   ],
   "source": [
    "UID = df.UNITID\n",
    "\n",
    "UID.nunique(), len(UID)"
   ]
  },
  {
   "cell_type": "code",
   "execution_count": null,
   "metadata": {},
   "outputs": [
    {
     "data": {
      "text/plain": [
       "array(['SIG017206', 'SIG017211', 'SIG017290', ..., 'SIG000003',\n",
       "       'SIG000004', 'SIG031242'], dtype=object)"
      ]
     },
     "execution_count": 6,
     "metadata": {},
     "output_type": "execute_result"
    }
   ],
   "source": [
    "SIGID = df.SIGID\n",
    "\n",
    "SIGID.unique()\n",
    "\n"
   ]
  },
  {
   "cell_type": "code",
   "execution_count": null,
   "metadata": {},
   "outputs": [
    {
     "data": {
      "text/plain": [
       "366"
      ]
     },
     "execution_count": 7,
     "metadata": {},
     "output_type": "execute_result"
    }
   ],
   "source": [
    "MS = df.MAINSTREET\n",
    "MS.nunique()"
   ]
  },
  {
   "cell_type": "code",
   "execution_count": null,
   "metadata": {},
   "outputs": [
    {
     "data": {
      "text/plain": [
       "412"
      ]
     },
     "execution_count": 8,
     "metadata": {},
     "output_type": "execute_result"
    }
   ],
   "source": [
    "XS = df.CROSSSTREE\n",
    "XS.nunique()"
   ]
  },
  {
   "cell_type": "code",
   "execution_count": null,
   "metadata": {},
   "outputs": [
    {
     "data": {
      "text/plain": [
       "array(['KYTC', 'METRO', 'JEFFERSONTOWN', 'MIDDLETOWN'], dtype=object)"
      ]
     },
     "execution_count": 9,
     "metadata": {},
     "output_type": "execute_result"
    }
   ],
   "source": [
    "df.OWNER.unique()"
   ]
  },
  {
   "cell_type": "code",
   "execution_count": null,
   "metadata": {},
   "outputs": [
    {
     "data": {
      "text/plain": [
       "array(['S', 'M', 'JT', 'MT'], dtype=object)"
      ]
     },
     "execution_count": 10,
     "metadata": {},
     "output_type": "execute_result"
    }
   ],
   "source": [
    "df.OWNER2.unique()"
   ]
  },
  {
   "cell_type": "code",
   "execution_count": null,
   "metadata": {},
   "outputs": [
    {
     "data": {
      "text/plain": [
       "array(['KY-3084', 'US 60', 'US-60', 'KY-22', 'US-42', 'KY-146', 'KY-155',\n",
       "       None, 'US-31E', 'KY-1747', 'KY-913', 'KY-1932', 'KY-2052',\n",
       "       'KY-1819', 'I-65', 'US 31W', 'KY-1020', 'KY-864', 'KY-2054',\n",
       "       'KY-1934', 'KY-1631', 'KY-1447', 'KY-1065', 'KY-2845', 'KY-61',\n",
       "       'I-71', 'US-31W', 'US 150', 'KY-2049', 'KY 913', 'KY-1931',\n",
       "       'KY-2050', 'KY-2048', 'KY 155', 'KY-1703', 'KY-2251', 'I-264',\n",
       "       'I-64', 'KY1447', 'US-150', 'KY-1865', 'KY-1450', 'KY-907',\n",
       "       'KY-3064', 'KY-3082', 'KY-1142', 'KY-1727', 'KY-3077', 'US-60A',\n",
       "       'KY1865', 'I-265', 'US-31', 'KY-2051', 'KY 1934', 'KY-2860',\n",
       "       'US 31E', 'US 42', 'KY-2055', 'KY 61', 'US 31'], dtype=object)"
      ]
     },
     "execution_count": 11,
     "metadata": {},
     "output_type": "execute_result"
    }
   ],
   "source": [
    "df.ROUTE.unique()"
   ]
  },
  {
   "cell_type": "code",
   "execution_count": null,
   "metadata": {},
   "outputs": [
    {
     "data": {
      "text/plain": [
       "0        1.250\n",
       "1       12.291\n",
       "2       12.580\n",
       "3        3.700\n",
       "4        0.440\n",
       "         ...  \n",
       "1086     5.290\n",
       "1087     1.480\n",
       "1088     6.470\n",
       "1089     3.450\n",
       "1090       NaN\n",
       "Name: MILEPOINT, Length: 1091, dtype: float64"
      ]
     },
     "execution_count": 12,
     "metadata": {},
     "output_type": "execute_result"
    }
   ],
   "source": [
    "df.MILEPOINT"
   ]
  },
  {
   "cell_type": "code",
   "execution_count": null,
   "metadata": {},
   "outputs": [
    {
     "data": {
      "text/plain": [
       "0                OLD HENRY @ I 265 RAMP\n",
       "1           SHELBYVILLE @ BECKLEY WOODS\n",
       "2             SHELBYVILLE @ LAKE FOREST\n",
       "3               BROWNSBORO @ I 265 RAMP\n",
       "4                      HERR @ LIME KILN\n",
       "                     ...               \n",
       "1086           BILLTOWN RD @ I 265 RAMP\n",
       "1087    OLD HENRY @ TERRA CROSSING BLVD\n",
       "1088           WESTPORT RD @ I 265 RAMP\n",
       "1089      BEULAH CHURCH RD @ I 265 RAMP\n",
       "1090                               None\n",
       "Name: DESCRIPTIO, Length: 1091, dtype: object"
      ]
     },
     "execution_count": 13,
     "metadata": {},
     "output_type": "execute_result"
    }
   ],
   "source": [
    "df.DESCRIPTIO"
   ]
  },
  {
   "cell_type": "code",
   "execution_count": null,
   "metadata": {},
   "outputs": [
    {
     "data": {
      "text/plain": [
       "TIMES\n",
       "24 HOURS    1086\n",
       "24 HOUR        2\n",
       "ACTUATED       1\n",
       "24HRS          1\n",
       "Name: count, dtype: int64"
      ]
     },
     "execution_count": 14,
     "metadata": {},
     "output_type": "execute_result"
    }
   ],
   "source": [
    "df.TIMES.value_counts()"
   ]
  },
  {
   "cell_type": "code",
   "execution_count": null,
   "metadata": {},
   "outputs": [
    {
     "data": {
      "text/plain": [
       "TYPE\n",
       "1    1018\n",
       "3      44\n",
       "2      27\n",
       "4       2\n",
       "Name: count, dtype: int64"
      ]
     },
     "execution_count": 15,
     "metadata": {},
     "output_type": "execute_result"
    }
   ],
   "source": [
    "df.TYPE.value_counts()"
   ]
  },
  {
   "cell_type": "code",
   "execution_count": null,
   "metadata": {},
   "outputs": [
    {
     "data": {
      "text/plain": [
       "1048"
      ]
     },
     "execution_count": 16,
     "metadata": {},
     "output_type": "execute_result"
    }
   ],
   "source": [
    "df.INTID.nunique()"
   ]
  },
  {
   "cell_type": "code",
   "execution_count": null,
   "metadata": {},
   "outputs": [
    {
     "data": {
      "text/html": [
       "<div>\n",
       "<style scoped>\n",
       "    .dataframe tbody tr th:only-of-type {\n",
       "        vertical-align: middle;\n",
       "    }\n",
       "\n",
       "    .dataframe tbody tr th {\n",
       "        vertical-align: top;\n",
       "    }\n",
       "\n",
       "    .dataframe thead th {\n",
       "        text-align: right;\n",
       "    }\n",
       "</style>\n",
       "<table border=\"1\" class=\"dataframe\">\n",
       "  <thead>\n",
       "    <tr style=\"text-align: right;\">\n",
       "      <th></th>\n",
       "      <th>OBJECTID</th>\n",
       "      <th>UNITID</th>\n",
       "      <th>SIGID</th>\n",
       "      <th>MAINSTREET</th>\n",
       "      <th>CROSSSTREE</th>\n",
       "      <th>OWNER2</th>\n",
       "      <th>ROUTE</th>\n",
       "      <th>MILEPOINT</th>\n",
       "      <th>DESCRIPTIO</th>\n",
       "      <th>TIMES</th>\n",
       "      <th>OWNER</th>\n",
       "      <th>TYPE</th>\n",
       "      <th>INTID</th>\n",
       "      <th>ATMSID</th>\n",
       "      <th>geometry</th>\n",
       "    </tr>\n",
       "  </thead>\n",
       "  <tbody>\n",
       "    <tr>\n",
       "      <th>1090</th>\n",
       "      <td>1091</td>\n",
       "      <td>MPW031242</td>\n",
       "      <td>SIG031242</td>\n",
       "      <td>ZORN AVE</td>\n",
       "      <td>I 71 RAMP</td>\n",
       "      <td>S</td>\n",
       "      <td>None</td>\n",
       "      <td>NaN</td>\n",
       "      <td>None</td>\n",
       "      <td>None</td>\n",
       "      <td>KYTC</td>\n",
       "      <td>1</td>\n",
       "      <td>121707553999</td>\n",
       "      <td>3506.0</td>\n",
       "      <td>POINT (-85.69794 38.27573)</td>\n",
       "    </tr>\n",
       "  </tbody>\n",
       "</table>\n",
       "</div>"
      ],
      "text/plain": [
       "      OBJECTID     UNITID      SIGID MAINSTREET CROSSSTREE OWNER2 ROUTE  \\\n",
       "1090      1091  MPW031242  SIG031242   ZORN AVE  I 71 RAMP      S  None   \n",
       "\n",
       "      MILEPOINT DESCRIPTIO TIMES OWNER TYPE         INTID  ATMSID  \\\n",
       "1090        NaN       None  None  KYTC    1  121707553999  3506.0   \n",
       "\n",
       "                        geometry  \n",
       "1090  POINT (-85.69794 38.27573)  "
      ]
     },
     "execution_count": 17,
     "metadata": {},
     "output_type": "execute_result"
    }
   ],
   "source": [
    "df.ATMSID.value_counts()\n",
    "# only one value is not null\n",
    "df[df.ATMSID.notnull()]\n",
    "# WHAT DOES IT MEAN"
   ]
  },
  {
   "cell_type": "code",
   "execution_count": null,
   "metadata": {},
   "outputs": [
    {
     "data": {
      "text/plain": [
       "0       POINT (-85.49934 38.27063)\n",
       "1       POINT (-85.49848 38.24159)\n",
       "2       POINT (-85.49355 38.24052)\n",
       "3       POINT (-85.57021 38.31100)\n",
       "4       POINT (-85.62797 38.28392)\n",
       "                   ...            \n",
       "1086    POINT (-85.54667 38.14777)\n",
       "1087    POINT (-85.49572 38.27198)\n",
       "1088    POINT (-85.55105 38.29685)\n",
       "1089    POINT (-85.61452 38.12581)\n",
       "1090    POINT (-85.69794 38.27573)\n",
       "Name: geometry, Length: 1091, dtype: geometry"
      ]
     },
     "execution_count": 18,
     "metadata": {},
     "output_type": "execute_result"
    }
   ],
   "source": [
    "df.geometry"
   ]
  },
  {
   "cell_type": "code",
   "execution_count": null,
   "metadata": {},
   "outputs": [
    {
     "data": {
      "text/plain": [
       "'/Users/bencampbell/code/no_traffic_lights/code'"
      ]
     },
     "execution_count": 19,
     "metadata": {},
     "output_type": "execute_result"
    }
   ],
   "source": [
    "os.getcwd()"
   ]
  },
  {
   "cell_type": "code",
   "execution_count": null,
   "metadata": {},
   "outputs": [],
   "source": [
    "# Now that I know what I'm reading, I'll pull in the raw data and make a format I can refer back to \n",
    "\n",
    "\n",
    "OUTPREFIX = \"../data/raw\"\n",
    "path.exists(OUTPREFIX)\n",
    "df.to_csv(path.join(OUTPREFIX, \"semi-raw_data.csv\"))"
   ]
  }
 ],
 "metadata": {
  "kernelspec": {
   "display_name": "venv",
   "language": "python",
   "name": "python3"
  },
  "language_info": {
   "codemirror_mode": {
    "name": "ipython",
    "version": 3
   },
   "file_extension": ".py",
   "mimetype": "text/x-python",
   "name": "python",
   "nbconvert_exporter": "python",
   "pygments_lexer": "ipython3",
   "version": "3.11.1"
  }
 },
 "nbformat": 4,
 "nbformat_minor": 2
}
