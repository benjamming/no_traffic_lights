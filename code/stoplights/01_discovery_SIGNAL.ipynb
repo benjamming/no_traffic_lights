{
 "cells": [
  {
   "cell_type": "code",
   "execution_count": 28,
   "metadata": {},
   "outputs": [],
   "source": [
    "import pandas as pd\n",
    "from os import path\n",
    "import os\n",
    "\n",
    "#DATA_IN = \"../../data/raw/semi-raw_data.csv\"\n",
    "DATA_IN = \"../../data/raw/Jefferson_County_KY_Signalized_Intersections.csv\"\n",
    "assert path.exists(DATA_IN)"
   ]
  },
  {
   "cell_type": "code",
   "execution_count": 29,
   "metadata": {},
   "outputs": [
    {
     "data": {
      "text/plain": [
       "'/Users/bencampbell/code/no_traffic_lights/code/stoplights'"
      ]
     },
     "execution_count": 29,
     "metadata": {},
     "output_type": "execute_result"
    }
   ],
   "source": [
    "\n",
    "pwd = os.getcwd\n",
    "pwd()"
   ]
  },
  {
   "cell_type": "markdown",
   "metadata": {},
   "source": [
    "# Data Dictionary\n",
    "\n",
    "|column name | dtype | type | description | value notes | cleaning notes |\n",
    "|------------|-------|------|-------------|-------------|----------------|\n",
    "|X|float|float | Longitude coordinate of approximate location for stoplight | | keep |\n",
    "|Y|float|float | Latitude coordinate of approximate location for stoplight | | keep |\n",
    "|OBJECTID|int64|int| Unique id for each stoplight | index | keep |\n",
    "|UNITID|object|alphanumeric|d| not all unique 1088 vs 1091 total records | |\n",
    "|SIGID|object| | | not all unique: ~ 1070 |c|\n",
    "|MAINSTREET|object|string| Name of main street | ~366 unique | keep; very important |\n",
    "|CROSSSTREE|object| string | Name of cross street |~450 unique: more than main street | keep; fix name |\n",
    "|OWNER|object|string| | 'KYTC', 'METRO', 'JEFFERSONTOWN', 'MIDDLETOWN' | keep |\n",
    "|OWNER2|object| string | | 'S', 'M', 'JT', 'MT' | duplicate? shortcode for OWNER? |\n",
    "|ROUTE|object|alphanumeric| Alphanumeric designator for roadway like KY-123 US-123 | some null | keep |\n",
    "|MILEPOINT|float64| float | Milepoint along roadway | some null | keep |\n",
    "|DESCRIPTIO|object|string| Compact string description of intersection: MAINSTREET @ CROSSTREE(T) | redundant? | probably discard but maybe useful if its not clear what ROUTE means |\n",
    "|TIMES|object|string| Appears to be a description of the operating hours for that light | Most are different versions of \"24 hours\", one is ACTUATED, some null | probably can ignore unless ACTUATED value is interesting|\n",
    "|TYPE|object|int| No idea | 1, 2, 3, 4. Most values are 1, no clear pattern | figure out what this means. Is it tied to UNITID or SIGID? |\n",
    "|INTID|object| | Intersection ID? | ~1048 unique: cross reference with DESCRIPTIO(N), SIGID, etc | probably a good index |\n",
    "|ATMSID|float64||No idea|Most values are null/nan. Only one non null value. See below | probably drop. Maybe that record is interesting? times value is none|\n",
    "| | | | || |\n",
    "|geometry|geometry|POINT(Longitude, Latitude)| Approximate latitude, longitude coordinates of the intersection ||keep|\n",
    "\n",
    "RANDOM NOTE: Ever notice how similar are ACTUATED and ACTIVATED semantically and graphically? cf Roman V vs U. VVEIRD STUFF"
   ]
  },
  {
   "cell_type": "code",
   "execution_count": 31,
   "metadata": {},
   "outputs": [
    {
     "data": {
      "text/html": [
       "<div>\n",
       "<style scoped>\n",
       "    .dataframe tbody tr th:only-of-type {\n",
       "        vertical-align: middle;\n",
       "    }\n",
       "\n",
       "    .dataframe tbody tr th {\n",
       "        vertical-align: top;\n",
       "    }\n",
       "\n",
       "    .dataframe thead th {\n",
       "        text-align: right;\n",
       "    }\n",
       "</style>\n",
       "<table border=\"1\" class=\"dataframe\">\n",
       "  <thead>\n",
       "    <tr style=\"text-align: right;\">\n",
       "      <th></th>\n",
       "      <th>X</th>\n",
       "      <th>Y</th>\n",
       "      <th>OBJECTID</th>\n",
       "      <th>UNITID</th>\n",
       "      <th>SIGID</th>\n",
       "      <th>MAINSTREET</th>\n",
       "      <th>CROSSSTREET</th>\n",
       "      <th>OWNER2</th>\n",
       "      <th>ROUTE</th>\n",
       "      <th>MILEPOINT</th>\n",
       "      <th>DESCRIPTION</th>\n",
       "      <th>TIMES</th>\n",
       "      <th>OWNER</th>\n",
       "      <th>TYPE</th>\n",
       "      <th>INTID</th>\n",
       "      <th>ATMSID</th>\n",
       "    </tr>\n",
       "  </thead>\n",
       "  <tbody>\n",
       "    <tr>\n",
       "      <th>0</th>\n",
       "      <td>-85.499337</td>\n",
       "      <td>38.270632</td>\n",
       "      <td>1</td>\n",
       "      <td>MPW017206</td>\n",
       "      <td>SIG017206</td>\n",
       "      <td>OLD HENRY</td>\n",
       "      <td>I 265 RAMP</td>\n",
       "      <td>S</td>\n",
       "      <td>KY-3084</td>\n",
       "      <td>1.250</td>\n",
       "      <td>OLD HENRY @ I 265 RAMP</td>\n",
       "      <td>24 HOURS</td>\n",
       "      <td>KYTC</td>\n",
       "      <td>1</td>\n",
       "      <td>76747569996</td>\n",
       "      <td>NaN</td>\n",
       "    </tr>\n",
       "    <tr>\n",
       "      <th>1</th>\n",
       "      <td>-85.498479</td>\n",
       "      <td>38.241589</td>\n",
       "      <td>2</td>\n",
       "      <td>MPW017211</td>\n",
       "      <td>SIG017211</td>\n",
       "      <td>SHELBYVILLE</td>\n",
       "      <td>BECKLEY WOODS</td>\n",
       "      <td>S</td>\n",
       "      <td>US 60</td>\n",
       "      <td>12.291</td>\n",
       "      <td>SHELBYVILLE @ BECKLEY WOODS</td>\n",
       "      <td>24 HOURS</td>\n",
       "      <td>KYTC</td>\n",
       "      <td>1</td>\n",
       "      <td>78959406728</td>\n",
       "      <td>NaN</td>\n",
       "    </tr>\n",
       "    <tr>\n",
       "      <th>2</th>\n",
       "      <td>-85.493550</td>\n",
       "      <td>38.240517</td>\n",
       "      <td>3</td>\n",
       "      <td>MPW017290</td>\n",
       "      <td>SIG017290</td>\n",
       "      <td>SHELBYVILLE</td>\n",
       "      <td>LAKE FOREST</td>\n",
       "      <td>S</td>\n",
       "      <td>US-60</td>\n",
       "      <td>12.580</td>\n",
       "      <td>SHELBYVILLE @ LAKE FOREST</td>\n",
       "      <td>24 HOURS</td>\n",
       "      <td>KYTC</td>\n",
       "      <td>1</td>\n",
       "      <td>123759407630</td>\n",
       "      <td>NaN</td>\n",
       "    </tr>\n",
       "    <tr>\n",
       "      <th>3</th>\n",
       "      <td>-85.570212</td>\n",
       "      <td>38.311002</td>\n",
       "      <td>4</td>\n",
       "      <td>MPW015159</td>\n",
       "      <td>SIG015159</td>\n",
       "      <td>BROWNSBORO</td>\n",
       "      <td>I 265 RAMP</td>\n",
       "      <td>S</td>\n",
       "      <td>KY-22</td>\n",
       "      <td>3.700</td>\n",
       "      <td>BROWNSBORO @ I 265 RAMP</td>\n",
       "      <td>24 HOURS</td>\n",
       "      <td>KYTC</td>\n",
       "      <td>1</td>\n",
       "      <td>143907249996</td>\n",
       "      <td>NaN</td>\n",
       "    </tr>\n",
       "    <tr>\n",
       "      <th>4</th>\n",
       "      <td>-85.627965</td>\n",
       "      <td>38.283916</td>\n",
       "      <td>5</td>\n",
       "      <td>MPW011726</td>\n",
       "      <td>SIG011726</td>\n",
       "      <td>HERR</td>\n",
       "      <td>LIME KILN</td>\n",
       "      <td>S</td>\n",
       "      <td>KY-22</td>\n",
       "      <td>0.440</td>\n",
       "      <td>HERR @ LIME KILN</td>\n",
       "      <td>24 HOURS</td>\n",
       "      <td>KYTC</td>\n",
       "      <td>1</td>\n",
       "      <td>184229013860</td>\n",
       "      <td>NaN</td>\n",
       "    </tr>\n",
       "  </tbody>\n",
       "</table>\n",
       "</div>"
      ],
      "text/plain": [
       "           X          Y  OBJECTID     UNITID      SIGID   MAINSTREET  \\\n",
       "0 -85.499337  38.270632         1  MPW017206  SIG017206    OLD HENRY   \n",
       "1 -85.498479  38.241589         2  MPW017211  SIG017211  SHELBYVILLE   \n",
       "2 -85.493550  38.240517         3  MPW017290  SIG017290  SHELBYVILLE   \n",
       "3 -85.570212  38.311002         4  MPW015159  SIG015159   BROWNSBORO   \n",
       "4 -85.627965  38.283916         5  MPW011726  SIG011726         HERR   \n",
       "\n",
       "     CROSSSTREET OWNER2    ROUTE  MILEPOINT                  DESCRIPTION  \\\n",
       "0     I 265 RAMP      S  KY-3084      1.250       OLD HENRY @ I 265 RAMP   \n",
       "1  BECKLEY WOODS      S    US 60     12.291  SHELBYVILLE @ BECKLEY WOODS   \n",
       "2    LAKE FOREST      S    US-60     12.580    SHELBYVILLE @ LAKE FOREST   \n",
       "3     I 265 RAMP      S    KY-22      3.700      BROWNSBORO @ I 265 RAMP   \n",
       "4      LIME KILN      S    KY-22      0.440             HERR @ LIME KILN   \n",
       "\n",
       "      TIMES OWNER  TYPE           INTID  ATMSID  \n",
       "0  24 HOURS  KYTC     1     76747569996     NaN  \n",
       "1  24 HOURS  KYTC     1     78959406728     NaN  \n",
       "2  24 HOURS  KYTC     1    123759407630     NaN  \n",
       "3  24 HOURS  KYTC     1    143907249996     NaN  \n",
       "4  24 HOURS  KYTC     1    184229013860     NaN  "
      ]
     },
     "execution_count": 31,
     "metadata": {},
     "output_type": "execute_result"
    }
   ],
   "source": [
    "df = pd.read_csv(DATA_IN, index_col=0).reset_index()\n",
    "df.head()"
   ]
  },
  {
   "cell_type": "code",
   "execution_count": 32,
   "metadata": {},
   "outputs": [
    {
     "data": {
      "text/plain": [
       "0      -85.499337\n",
       "1      -85.498479\n",
       "2      -85.493550\n",
       "3      -85.570212\n",
       "4      -85.627965\n",
       "          ...    \n",
       "1086   -85.546671\n",
       "1087   -85.495722\n",
       "1088   -85.551047\n",
       "1089   -85.614517\n",
       "1090   -85.697942\n",
       "Name: X, Length: 1091, dtype: float64"
      ]
     },
     "execution_count": 32,
     "metadata": {},
     "output_type": "execute_result"
    }
   ],
   "source": [
    "# X Y \n",
    "df[\"X\"]"
   ]
  },
  {
   "cell_type": "markdown",
   "metadata": {},
   "source": [
    "### UNITID SIGID columns"
   ]
  },
  {
   "cell_type": "code",
   "execution_count": 4,
   "metadata": {},
   "outputs": [
    {
     "data": {
      "text/plain": [
       "UNITID     SIGID    \n",
       "MPW000001  SIG000001    1\n",
       "MPW000002  SIG000002    1\n",
       "MPW000003  SIG000003    1\n",
       "MPW000004  SIG000004    1\n",
       "MPW000076  SIG000076    1\n",
       "                       ..\n",
       "MPW018044  SIG006911    1\n",
       "MPW031109  SIG031109    1\n",
       "MPW031240  SIG031240    1\n",
       "MPW031241  SIG031241    1\n",
       "MPW031242  SIG031242    1\n",
       "Length: 1089, dtype: int64"
      ]
     },
     "execution_count": 4,
     "metadata": {},
     "output_type": "execute_result"
    }
   ],
   "source": [
    "idgroup1 = df.groupby(['UNITID', 'SIGID'])\n",
    "idgroup1.size()\n"
   ]
  },
  {
   "cell_type": "code",
   "execution_count": 5,
   "metadata": {},
   "outputs": [
    {
     "data": {
      "text/plain": [
       "UNITID     SIGID    \n",
       "MPW005889  SIG005889    2\n",
       "MPW014474  SIG014474    2\n",
       "dtype: int64"
      ]
     },
     "execution_count": 5,
     "metadata": {},
     "output_type": "execute_result"
    }
   ],
   "source": [
    "result = idgroup1.size()\n",
    "result[result.values > 1]"
   ]
  },
  {
   "cell_type": "code",
   "execution_count": 6,
   "metadata": {},
   "outputs": [
    {
     "data": {
      "text/html": [
       "<div>\n",
       "<style scoped>\n",
       "    .dataframe tbody tr th:only-of-type {\n",
       "        vertical-align: middle;\n",
       "    }\n",
       "\n",
       "    .dataframe tbody tr th {\n",
       "        vertical-align: top;\n",
       "    }\n",
       "\n",
       "    .dataframe thead th {\n",
       "        text-align: right;\n",
       "    }\n",
       "</style>\n",
       "<table border=\"1\" class=\"dataframe\">\n",
       "  <thead>\n",
       "    <tr style=\"text-align: right;\">\n",
       "      <th></th>\n",
       "      <th>UNITID</th>\n",
       "      <th>SIGID</th>\n",
       "      <th>INTID</th>\n",
       "    </tr>\n",
       "    <tr>\n",
       "      <th>X</th>\n",
       "      <th></th>\n",
       "      <th></th>\n",
       "      <th></th>\n",
       "    </tr>\n",
       "  </thead>\n",
       "  <tbody>\n",
       "    <tr>\n",
       "      <th>-85.753279</th>\n",
       "      <td>MPW005889</td>\n",
       "      <td>SIG005889</td>\n",
       "      <td>1338307075785</td>\n",
       "    </tr>\n",
       "    <tr>\n",
       "      <th>-85.578909</th>\n",
       "      <td>MPW014474</td>\n",
       "      <td>SIG014474</td>\n",
       "      <td>11343D281D284</td>\n",
       "    </tr>\n",
       "    <tr>\n",
       "      <th>-85.753542</th>\n",
       "      <td>MPW005889</td>\n",
       "      <td>SIG005889</td>\n",
       "      <td>1676242145872</td>\n",
       "    </tr>\n",
       "    <tr>\n",
       "      <th>-85.608664</th>\n",
       "      <td>MPW014474</td>\n",
       "      <td>SIG014474</td>\n",
       "      <td>433648057132</td>\n",
       "    </tr>\n",
       "  </tbody>\n",
       "</table>\n",
       "</div>"
      ],
      "text/plain": [
       "               UNITID      SIGID           INTID\n",
       "X                                               \n",
       "-85.753279  MPW005889  SIG005889   1338307075785\n",
       "-85.578909  MPW014474  SIG014474   11343D281D284\n",
       "-85.753542  MPW005889  SIG005889   1676242145872\n",
       "-85.608664  MPW014474  SIG014474    433648057132"
      ]
     },
     "execution_count": 6,
     "metadata": {},
     "output_type": "execute_result"
    }
   ],
   "source": [
    "q = result[result.values > 1]\n",
    "unit_ids = dupes = [x for x, _ in q.index]\n",
    "q_result = df[df.UNITID.isin(unit_ids)]\n",
    "q_result[['UNITID', 'SIGID', \"INTID\"]]"
   ]
  },
  {
   "cell_type": "code",
   "execution_count": 7,
   "metadata": {},
   "outputs": [
    {
     "data": {
      "text/plain": [
       "TYPE\n",
       "1    707\n",
       "2     27\n",
       "3     17\n",
       "Name: count, dtype: int64"
      ]
     },
     "execution_count": 7,
     "metadata": {},
     "output_type": "execute_result"
    }
   ],
   "source": [
    "assert df.UNITID.str.startswith(\"MPW\").all()\n",
    "assert df.SIGID.str.startswith(\"SIG\").all()\n",
    "\n",
    "mismatch = df[df.UNITID.str.lstrip(\"MPW\") != df.SIGID.str.lstrip(\"SIG\")]\n",
    "mismatch.TYPE.value_counts() # == 27\n",
    "# Dope. \n",
    "\n",
    "#df[(df.TYPE != 2) & (df.OWNER == 'KYTC')] \n",
    "# but not\n",
    "#df[(df.TYPE == 2) & (df.OWNER != 'KYTC')] \n",
    "\n",
    "df[(df.TYPE != 2)].OWNER.value_counts()\n",
    "df[df.OWNER == 'KYTC'].TYPE.value_counts()\n",
    "\n",
    "# What does it mean?\n"
   ]
  },
  {
   "cell_type": "code",
   "execution_count": 8,
   "metadata": {},
   "outputs": [
    {
     "data": {
      "text/plain": [
       "TYPE\n",
       "1    1018\n",
       "3      44\n",
       "4       2\n",
       "Name: count, dtype: int64"
      ]
     },
     "execution_count": 8,
     "metadata": {},
     "output_type": "execute_result"
    }
   ],
   "source": [
    "match = df[df.UNITID.str.lstrip(\"MPW\") == df.SIGID.str.lstrip(\"SIG\")]\n",
    "match.TYPE.value_counts() # No values equal 2. That is good news.\n"
   ]
  },
  {
   "cell_type": "markdown",
   "metadata": {},
   "source": [
    "IMPORTANT Relationship: TYPE == 2 implies OWNER == KYTC and ID mismatch"
   ]
  },
  {
   "cell_type": "code",
   "execution_count": 9,
   "metadata": {},
   "outputs": [
    {
     "data": {
      "text/html": [
       "<div>\n",
       "<style scoped>\n",
       "    .dataframe tbody tr th:only-of-type {\n",
       "        vertical-align: middle;\n",
       "    }\n",
       "\n",
       "    .dataframe tbody tr th {\n",
       "        vertical-align: top;\n",
       "    }\n",
       "\n",
       "    .dataframe thead th {\n",
       "        text-align: right;\n",
       "    }\n",
       "</style>\n",
       "<table border=\"1\" class=\"dataframe\">\n",
       "  <thead>\n",
       "    <tr style=\"text-align: right;\">\n",
       "      <th></th>\n",
       "      <th>Y</th>\n",
       "      <th>OBJECTID</th>\n",
       "      <th>UNITID</th>\n",
       "      <th>SIGID</th>\n",
       "      <th>MAINSTREET</th>\n",
       "      <th>CROSSSTREET</th>\n",
       "      <th>OWNER2</th>\n",
       "      <th>ROUTE</th>\n",
       "      <th>MILEPOINT</th>\n",
       "      <th>DESCRIPTION</th>\n",
       "      <th>TIMES</th>\n",
       "      <th>OWNER</th>\n",
       "      <th>TYPE</th>\n",
       "      <th>INTID</th>\n",
       "      <th>ATMSID</th>\n",
       "    </tr>\n",
       "    <tr>\n",
       "      <th>X</th>\n",
       "      <th></th>\n",
       "      <th></th>\n",
       "      <th></th>\n",
       "      <th></th>\n",
       "      <th></th>\n",
       "      <th></th>\n",
       "      <th></th>\n",
       "      <th></th>\n",
       "      <th></th>\n",
       "      <th></th>\n",
       "      <th></th>\n",
       "      <th></th>\n",
       "      <th></th>\n",
       "      <th></th>\n",
       "      <th></th>\n",
       "    </tr>\n",
       "  </thead>\n",
       "  <tbody>\n",
       "    <tr>\n",
       "      <th>-85.783658</th>\n",
       "      <td>38.245065</td>\n",
       "      <td>1032</td>\n",
       "      <td>MPW004166</td>\n",
       "      <td>SIG004166</td>\n",
       "      <td>BRECKINRIDGE</td>\n",
       "      <td>DIXIE</td>\n",
       "      <td>M</td>\n",
       "      <td>NaN</td>\n",
       "      <td>NaN</td>\n",
       "      <td>BRECKINRIDGE @ DIXIE</td>\n",
       "      <td>ACTUATED</td>\n",
       "      <td>METRO</td>\n",
       "      <td>4</td>\n",
       "      <td>1312806581612</td>\n",
       "      <td>NaN</td>\n",
       "    </tr>\n",
       "    <tr>\n",
       "      <th>-85.729228</th>\n",
       "      <td>38.249384</td>\n",
       "      <td>1057</td>\n",
       "      <td>MPW006925</td>\n",
       "      <td>SIG006925</td>\n",
       "      <td>COOPER</td>\n",
       "      <td>LEXINGTON</td>\n",
       "      <td>M</td>\n",
       "      <td>NaN</td>\n",
       "      <td>NaN</td>\n",
       "      <td>COOPER @ LEXINGTON</td>\n",
       "      <td>24 HOURS</td>\n",
       "      <td>METRO</td>\n",
       "      <td>4</td>\n",
       "      <td>1553912713838</td>\n",
       "      <td>NaN</td>\n",
       "    </tr>\n",
       "  </tbody>\n",
       "</table>\n",
       "</div>"
      ],
      "text/plain": [
       "                    Y  OBJECTID     UNITID      SIGID    MAINSTREET  \\\n",
       "X                                                                     \n",
       "-85.783658  38.245065      1032  MPW004166  SIG004166  BRECKINRIDGE   \n",
       "-85.729228  38.249384      1057  MPW006925  SIG006925        COOPER   \n",
       "\n",
       "           CROSSSTREET OWNER2 ROUTE  MILEPOINT           DESCRIPTION  \\\n",
       "X                                                                      \n",
       "-85.783658       DIXIE      M   NaN        NaN  BRECKINRIDGE @ DIXIE   \n",
       "-85.729228   LEXINGTON      M   NaN        NaN    COOPER @ LEXINGTON   \n",
       "\n",
       "               TIMES  OWNER  TYPE           INTID  ATMSID  \n",
       "X                                                          \n",
       "-85.783658  ACTUATED  METRO     4   1312806581612     NaN  \n",
       "-85.729228  24 HOURS  METRO     4   1553912713838     NaN  "
      ]
     },
     "execution_count": 9,
     "metadata": {},
     "output_type": "execute_result"
    }
   ],
   "source": [
    "type4 = match[match.TYPE == 4]\n",
    "type4[type4.UNITID != type4.SIGID]"
   ]
  },
  {
   "cell_type": "code",
   "execution_count": 10,
   "metadata": {},
   "outputs": [],
   "source": [
    "# MAINSTREET CROSSSTREET\n",
    "# Compare DESCRIPTIO(N)\n"
   ]
  },
  {
   "cell_type": "code",
   "execution_count": 11,
   "metadata": {},
   "outputs": [
    {
     "data": {
      "text/plain": [
       "OWNER          OWNER2\n",
       "KYTC           S         751\n",
       "METRO          M         334\n",
       "JEFFERSONTOWN  JT          5\n",
       "MIDDLETOWN     MT          1\n",
       "Name: count, dtype: int64"
      ]
     },
     "execution_count": 11,
     "metadata": {},
     "output_type": "execute_result"
    }
   ],
   "source": [
    "# OWNER OWNER2\n",
    "df[['OWNER', 'OWNER2']].value_counts()\n",
    "# All of these line up one to one. I will drop OWNER2 because it is less readable."
   ]
  },
  {
   "cell_type": "code",
   "execution_count": 12,
   "metadata": {},
   "outputs": [],
   "source": [
    "# ROUTE"
   ]
  },
  {
   "cell_type": "code",
   "execution_count": 13,
   "metadata": {},
   "outputs": [
    {
     "data": {
      "text/plain": [
       "count    734.000000\n",
       "mean       8.191883\n",
       "std        5.913058\n",
       "min        0.000000\n",
       "25%        3.032500\n",
       "50%        7.445000\n",
       "75%       12.294000\n",
       "max       22.035000\n",
       "Name: MILEPOINT, dtype: float64"
      ]
     },
     "execution_count": 13,
     "metadata": {},
     "output_type": "execute_result"
    }
   ],
   "source": [
    "# MILEPOINT\n",
    "MP = df.MILEPOINT.dropna()\n",
    "MP.describe()"
   ]
  },
  {
   "cell_type": "code",
   "execution_count": 14,
   "metadata": {},
   "outputs": [
    {
     "data": {
      "text/plain": [
       "MILEPOINT\n",
       "0.000     10\n",
       "16.185     5\n",
       "5.180      4\n",
       "3.800      3\n",
       "2.000      3\n",
       "          ..\n",
       "7.560      1\n",
       "2.670      1\n",
       "10.800     1\n",
       "15.130     1\n",
       "6.470      1\n",
       "Name: count, Length: 666, dtype: int64"
      ]
     },
     "execution_count": 14,
     "metadata": {},
     "output_type": "execute_result"
    },
    {
     "data": {
      "image/png": "[encoded data removed]",
      "text/plain": [
       "<Figure size 640x480 with 1 Axes>"
      ]
     },
     "metadata": {},
     "output_type": "display_data"
    }
   ],
   "source": [
    "import math \n",
    "\n",
    "total = len(MP)\n",
    "maxi = math.ceil(MP.values.max())\n",
    "mini = math.floor(MP.values.min())\n",
    "bins = abs(mini) + maxi\n",
    "\n",
    "MP.plot.hist(bins=bins)\n",
    "# Is 0 a default value?\n",
    "MP.value_counts()\n"
   ]
  },
  {
   "cell_type": "code",
   "execution_count": 15,
   "metadata": {},
   "outputs": [
    {
     "data": {
      "text/plain": [
       "TIMES\n",
       "24 HOURS    1089\n",
       "ACTUATED       1\n",
       "Name: count, dtype: int64"
      ]
     },
     "execution_count": 15,
     "metadata": {},
     "output_type": "execute_result"
    }
   ],
   "source": [
    "# TIMES\n",
    "df.TIMES.value_counts()\n",
    "new = df.TIMES.replace(\n",
    "    {\"24 HOUR\":\"24 HOURS\",\n",
    "     \"24HRS\":\"24 HOURS\"})\n",
    "df.TIMES = new\n",
    "df.TIMES.value_counts()\n",
    "# Dope, that works"
   ]
  },
  {
   "cell_type": "code",
   "execution_count": 16,
   "metadata": {},
   "outputs": [
    {
     "data": {
      "text/html": [
       "<div>\n",
       "<style scoped>\n",
       "    .dataframe tbody tr th:only-of-type {\n",
       "        vertical-align: middle;\n",
       "    }\n",
       "\n",
       "    .dataframe tbody tr th {\n",
       "        vertical-align: top;\n",
       "    }\n",
       "\n",
       "    .dataframe thead th {\n",
       "        text-align: right;\n",
       "    }\n",
       "</style>\n",
       "<table border=\"1\" class=\"dataframe\">\n",
       "  <thead>\n",
       "    <tr style=\"text-align: right;\">\n",
       "      <th></th>\n",
       "      <th>Y</th>\n",
       "      <th>OBJECTID</th>\n",
       "      <th>UNITID</th>\n",
       "      <th>SIGID</th>\n",
       "      <th>MAINSTREET</th>\n",
       "      <th>CROSSSTREET</th>\n",
       "      <th>OWNER2</th>\n",
       "      <th>ROUTE</th>\n",
       "      <th>MILEPOINT</th>\n",
       "      <th>DESCRIPTION</th>\n",
       "      <th>TIMES</th>\n",
       "      <th>OWNER</th>\n",
       "      <th>TYPE</th>\n",
       "      <th>INTID</th>\n",
       "      <th>ATMSID</th>\n",
       "    </tr>\n",
       "    <tr>\n",
       "      <th>X</th>\n",
       "      <th></th>\n",
       "      <th></th>\n",
       "      <th></th>\n",
       "      <th></th>\n",
       "      <th></th>\n",
       "      <th></th>\n",
       "      <th></th>\n",
       "      <th></th>\n",
       "      <th></th>\n",
       "      <th></th>\n",
       "      <th></th>\n",
       "      <th></th>\n",
       "      <th></th>\n",
       "      <th></th>\n",
       "      <th></th>\n",
       "    </tr>\n",
       "  </thead>\n",
       "  <tbody>\n",
       "    <tr>\n",
       "      <th>-85.783658</th>\n",
       "      <td>38.245065</td>\n",
       "      <td>1032</td>\n",
       "      <td>MPW004166</td>\n",
       "      <td>SIG004166</td>\n",
       "      <td>BRECKINRIDGE</td>\n",
       "      <td>DIXIE</td>\n",
       "      <td>M</td>\n",
       "      <td>NaN</td>\n",
       "      <td>NaN</td>\n",
       "      <td>BRECKINRIDGE @ DIXIE</td>\n",
       "      <td>ACTUATED</td>\n",
       "      <td>METRO</td>\n",
       "      <td>4</td>\n",
       "      <td>1312806581612</td>\n",
       "      <td>NaN</td>\n",
       "    </tr>\n",
       "  </tbody>\n",
       "</table>\n",
       "</div>"
      ],
      "text/plain": [
       "                    Y  OBJECTID     UNITID      SIGID    MAINSTREET  \\\n",
       "X                                                                     \n",
       "-85.783658  38.245065      1032  MPW004166  SIG004166  BRECKINRIDGE   \n",
       "\n",
       "           CROSSSTREET OWNER2 ROUTE  MILEPOINT           DESCRIPTION  \\\n",
       "X                                                                      \n",
       "-85.783658       DIXIE      M   NaN        NaN  BRECKINRIDGE @ DIXIE   \n",
       "\n",
       "               TIMES  OWNER  TYPE           INTID  ATMSID  \n",
       "X                                                          \n",
       "-85.783658  ACTUATED  METRO     4   1312806581612     NaN  "
      ]
     },
     "execution_count": 16,
     "metadata": {},
     "output_type": "execute_result"
    }
   ],
   "source": [
    "df[df.TIMES=='ACTUATED']"
   ]
  },
  {
   "cell_type": "markdown",
   "metadata": {},
   "source": [
    "# TYPE column\n"
   ]
  },
  {
   "cell_type": "markdown",
   "metadata": {},
   "source": [
    "#### Figuring out TYPE"
   ]
  },
  {
   "cell_type": "code",
   "execution_count": 17,
   "metadata": {},
   "outputs": [
    {
     "data": {
      "text/plain": [
       "TYPE\n",
       "1    1018\n",
       "3      44\n",
       "2      27\n",
       "4       2\n",
       "Name: count, dtype: int64"
      ]
     },
     "execution_count": 17,
     "metadata": {},
     "output_type": "execute_result"
    }
   ],
   "source": [
    "# TYPE\n",
    "df.TYPE.value_counts()\n"
   ]
  },
  {
   "cell_type": "code",
   "execution_count": 18,
   "metadata": {},
   "outputs": [
    {
     "data": {
      "text/plain": [
       "OWNER          TYPE\n",
       "KYTC           1       707\n",
       "METRO          1       305\n",
       "KYTC           2        27\n",
       "METRO          3        27\n",
       "KYTC           3        17\n",
       "JEFFERSONTOWN  1         5\n",
       "METRO          4         2\n",
       "MIDDLETOWN     1         1\n",
       "Name: count, dtype: int64"
      ]
     },
     "execution_count": 18,
     "metadata": {},
     "output_type": "execute_result"
    }
   ],
   "source": [
    "df[['OWNER', 'TYPE']].value_counts()\n",
    "# Nope. That didn't work"
   ]
  },
  {
   "cell_type": "code",
   "execution_count": 19,
   "metadata": {},
   "outputs": [
    {
     "data": {
      "text/plain": [
       "['MPW005889', 'MPW014474']"
      ]
     },
     "metadata": {},
     "output_type": "display_data"
    },
    {
     "data": {
      "text/plain": [
       "OWNER\n",
       "METRO    2\n",
       "Name: count, dtype: int64"
      ]
     },
     "execution_count": 19,
     "metadata": {},
     "output_type": "execute_result"
    }
   ],
   "source": [
    "display(dupes) # Just a hunch. These don't match at all though so it was a bad hunch.\n",
    "type4 = df[df.TYPE == 4]\n",
    "type4['OWNER'].value_counts()\n",
    "# All values == METRO"
   ]
  },
  {
   "cell_type": "code",
   "execution_count": 20,
   "metadata": {},
   "outputs": [
    {
     "data": {
      "text/plain": [
       "OWNER\n",
       "METRO    27\n",
       "KYTC     17\n",
       "Name: count, dtype: int64"
      ]
     },
     "execution_count": 20,
     "metadata": {},
     "output_type": "execute_result"
    }
   ],
   "source": [
    "type3 = df[df.TYPE == 3]\n",
    "type3['OWNER'].value_counts()"
   ]
  },
  {
   "cell_type": "code",
   "execution_count": 21,
   "metadata": {},
   "outputs": [
    {
     "data": {
      "text/plain": [
       "OWNER          TYPE\n",
       "KYTC           1       707\n",
       "METRO          1       305\n",
       "KYTC           2        27\n",
       "METRO          3        27\n",
       "KYTC           3        17\n",
       "JEFFERSONTOWN  1         5\n",
       "METRO          4         2\n",
       "MIDDLETOWN     1         1\n",
       "Name: count, dtype: int64"
      ]
     },
     "execution_count": 21,
     "metadata": {},
     "output_type": "execute_result"
    }
   ],
   "source": [
    "df[['OWNER', 'TYPE']].value_counts()\n",
    "# Nope. That didn't work\n",
    "# ...but it DID work. Use up top: OWNER:KYTC, TYPE:2 <- count == 27"
   ]
  },
  {
   "cell_type": "code",
   "execution_count": 22,
   "metadata": {},
   "outputs": [
    {
     "data": {
      "text/plain": [
       "OWNER\n",
       "KYTC    27\n",
       "Name: count, dtype: int64"
      ]
     },
     "execution_count": 22,
     "metadata": {},
     "output_type": "execute_result"
    }
   ],
   "source": [
    "df[df.TYPE==2]['OWNER'].value_counts()\n",
    "# all TYPE==2 :: OWNER == KYTC"
   ]
  },
  {
   "cell_type": "code",
   "execution_count": 23,
   "metadata": {},
   "outputs": [
    {
     "data": {
      "text/plain": [
       "OWNER\n",
       "KYTC             707\n",
       "METRO            305\n",
       "JEFFERSONTOWN      5\n",
       "MIDDLETOWN         1\n",
       "Name: count, dtype: int64"
      ]
     },
     "execution_count": 23,
     "metadata": {},
     "output_type": "execute_result"
    }
   ],
   "source": [
    "df[df.TYPE==1]['OWNER'].value_counts()"
   ]
  },
  {
   "cell_type": "code",
   "execution_count": 24,
   "metadata": {},
   "outputs": [
    {
     "data": {
      "text/html": [
       "<div>\n",
       "<style scoped>\n",
       "    .dataframe tbody tr th:only-of-type {\n",
       "        vertical-align: middle;\n",
       "    }\n",
       "\n",
       "    .dataframe tbody tr th {\n",
       "        vertical-align: top;\n",
       "    }\n",
       "\n",
       "    .dataframe thead th {\n",
       "        text-align: right;\n",
       "    }\n",
       "</style>\n",
       "<table border=\"1\" class=\"dataframe\">\n",
       "  <thead>\n",
       "    <tr style=\"text-align: right;\">\n",
       "      <th></th>\n",
       "      <th>1</th>\n",
       "      <th>2</th>\n",
       "      <th>3</th>\n",
       "      <th>4</th>\n",
       "    </tr>\n",
       "    <tr>\n",
       "      <th>OWNER</th>\n",
       "      <th></th>\n",
       "      <th></th>\n",
       "      <th></th>\n",
       "      <th></th>\n",
       "    </tr>\n",
       "  </thead>\n",
       "  <tbody>\n",
       "    <tr>\n",
       "      <th>KYTC</th>\n",
       "      <td>707</td>\n",
       "      <td>27.0</td>\n",
       "      <td>17.0</td>\n",
       "      <td>NaN</td>\n",
       "    </tr>\n",
       "    <tr>\n",
       "      <th>METRO</th>\n",
       "      <td>305</td>\n",
       "      <td>NaN</td>\n",
       "      <td>27.0</td>\n",
       "      <td>2.0</td>\n",
       "    </tr>\n",
       "    <tr>\n",
       "      <th>JEFFERSONTOWN</th>\n",
       "      <td>5</td>\n",
       "      <td>NaN</td>\n",
       "      <td>NaN</td>\n",
       "      <td>NaN</td>\n",
       "    </tr>\n",
       "    <tr>\n",
       "      <th>MIDDLETOWN</th>\n",
       "      <td>1</td>\n",
       "      <td>NaN</td>\n",
       "      <td>NaN</td>\n",
       "      <td>NaN</td>\n",
       "    </tr>\n",
       "  </tbody>\n",
       "</table>\n",
       "</div>"
      ],
      "text/plain": [
       "                 1     2     3    4\n",
       "OWNER                              \n",
       "KYTC           707  27.0  17.0  NaN\n",
       "METRO          305   NaN  27.0  2.0\n",
       "JEFFERSONTOWN    5   NaN   NaN  NaN\n",
       "MIDDLETOWN       1   NaN   NaN  NaN"
      ]
     },
     "execution_count": 24,
     "metadata": {},
     "output_type": "execute_result"
    }
   ],
   "source": [
    "pd.concat({n:df[df.TYPE == n]['OWNER'].value_counts() for n in (1,2,3,4)}, axis=1)"
   ]
  }
 ],
 "metadata": {
  "kernelspec": {
   "display_name": "venv",
   "language": "python",
   "name": "python3"
  },
  "language_info": {
   "codemirror_mode": {
    "name": "ipython",
    "version": 3
   },
   "file_extension": ".py",
   "mimetype": "text/x-python",
   "name": "python",
   "nbconvert_exporter": "python",
   "pygments_lexer": "ipython3",
   "version": "3.11.1"
  }
 },
 "nbformat": 4,
 "nbformat_minor": 2
}
