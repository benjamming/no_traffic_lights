{
 "cells": [
  {
   "cell_type": "code",
   "execution_count": 3,
   "metadata": {},
   "outputs": [
    {
     "data": {
      "text/html": [
       "<div>\n",
       "<style scoped>\n",
       "    .dataframe tbody tr th:only-of-type {\n",
       "        vertical-align: middle;\n",
       "    }\n",
       "\n",
       "    .dataframe tbody tr th {\n",
       "        vertical-align: top;\n",
       "    }\n",
       "\n",
       "    .dataframe thead th {\n",
       "        text-align: right;\n",
       "    }\n",
       "</style>\n",
       "<table border=\"1\" class=\"dataframe\">\n",
       "  <thead>\n",
       "    <tr style=\"text-align: right;\">\n",
       "      <th></th>\n",
       "      <th>intid</th>\n",
       "      <th>main_street</th>\n",
       "      <th>cross_street</th>\n",
       "      <th>main_suffix</th>\n",
       "      <th>cross_suffix</th>\n",
       "      <th>cross_prefix</th>\n",
       "      <th>main_prefix</th>\n",
       "      <th>longitude</th>\n",
       "      <th>latitude</th>\n",
       "    </tr>\n",
       "    <tr>\n",
       "      <th>OBJECTID</th>\n",
       "      <th></th>\n",
       "      <th></th>\n",
       "      <th></th>\n",
       "      <th></th>\n",
       "      <th></th>\n",
       "      <th></th>\n",
       "      <th></th>\n",
       "      <th></th>\n",
       "      <th></th>\n",
       "    </tr>\n",
       "  </thead>\n",
       "  <tbody>\n",
       "    <tr>\n",
       "      <th>1</th>\n",
       "      <td>154647662</td>\n",
       "      <td>REHL</td>\n",
       "      <td>REHL</td>\n",
       "      <td>RD</td>\n",
       "      <td>CT</td>\n",
       "      <td>W</td>\n",
       "      <td></td>\n",
       "      <td>-85.510444</td>\n",
       "      <td>38.205887</td>\n",
       "    </tr>\n",
       "    <tr>\n",
       "      <th>2</th>\n",
       "      <td>254646551</td>\n",
       "      <td>REHL</td>\n",
       "      <td>TUCKER STATION</td>\n",
       "      <td>RD</td>\n",
       "      <td>RD</td>\n",
       "      <td></td>\n",
       "      <td></td>\n",
       "      <td>-85.528169</td>\n",
       "      <td>38.200376</td>\n",
       "    </tr>\n",
       "    <tr>\n",
       "      <th>3</th>\n",
       "      <td>354646551</td>\n",
       "      <td>REHL</td>\n",
       "      <td>TUCKER STATION</td>\n",
       "      <td>RD</td>\n",
       "      <td>RD</td>\n",
       "      <td></td>\n",
       "      <td></td>\n",
       "      <td>-85.528419</td>\n",
       "      <td>38.200360</td>\n",
       "    </tr>\n",
       "    <tr>\n",
       "      <th>4</th>\n",
       "      <td>431949996</td>\n",
       "      <td>I 64 EAST</td>\n",
       "      <td>I 265 RAMP</td>\n",
       "      <td></td>\n",
       "      <td></td>\n",
       "      <td></td>\n",
       "      <td></td>\n",
       "      <td>-85.504954</td>\n",
       "      <td>38.222603</td>\n",
       "    </tr>\n",
       "    <tr>\n",
       "      <th>5</th>\n",
       "      <td>593499996</td>\n",
       "      <td>I 265 NORTH</td>\n",
       "      <td>I 265 RAMP</td>\n",
       "      <td></td>\n",
       "      <td></td>\n",
       "      <td></td>\n",
       "      <td></td>\n",
       "      <td>-85.505546</td>\n",
       "      <td>38.222127</td>\n",
       "    </tr>\n",
       "  </tbody>\n",
       "</table>\n",
       "</div>"
      ],
      "text/plain": [
       "                   intid  main_street    cross_street main_suffix  \\\n",
       "OBJECTID                                                            \n",
       "1              154647662         REHL            REHL          RD   \n",
       "2              254646551         REHL  TUCKER STATION          RD   \n",
       "3              354646551         REHL  TUCKER STATION          RD   \n",
       "4              431949996    I 64 EAST      I 265 RAMP               \n",
       "5              593499996  I 265 NORTH      I 265 RAMP               \n",
       "\n",
       "         cross_suffix cross_prefix main_prefix  longitude   latitude  \n",
       "OBJECTID                                                              \n",
       "1                  CT            W             -85.510444  38.205887  \n",
       "2                  RD                          -85.528169  38.200376  \n",
       "3                  RD                          -85.528419  38.200360  \n",
       "4                                              -85.504954  38.222603  \n",
       "5                                              -85.505546  38.222127  "
      ]
     },
     "execution_count": 3,
     "metadata": {},
     "output_type": "execute_result"
    }
   ],
   "source": [
    "import pandas as pd\n",
    "from pandasql import sqldf\n",
    "import pyparsing as pyp\n",
    "from os import path\n",
    "import string\n",
    "\n",
    "# TODO Solve this problem with the relative paths.\n",
    "DATA_IN = '../../data/clean/Jefferson_County_KY_Street_Intersections.csv'\n",
    "assert path.exists(DATA_IN)\n",
    "\n",
    "df = pd.read_csv(DATA_IN, index_col=0)\n",
    "df.head(5)"
   ]
  },
  {
   "cell_type": "code",
   "execution_count": 33,
   "metadata": {},
   "outputs": [
    {
     "data": {
      "text/plain": [
       "('I', '64', 'EAST')"
      ]
     },
     "execution_count": 33,
     "metadata": {},
     "output_type": "execute_result"
    }
   ],
   "source": [
    "MST = df.main_street\n",
    "\n",
    "# Interstates\n",
    "Iroads = MST[MST.str.startswith('I ')].unique()\n",
    "\n",
    "number = pyp.Word(pyp.nums)\n",
    "I_expr = pyp.Literal(\"I\") + pyp.Word(pyp.nums) + pyp.Word(pyp.alphas.upper())\n",
    "\n",
    "test = Iroads[0]\n",
    "\n",
    "I, number, suffix  = I_expr.parse_string(test)\n",
    "I, number, suffix"
   ]
  },
  {
   "cell_type": "code",
   "execution_count": 36,
   "metadata": {},
   "outputs": [
    {
     "data": {
      "text/plain": [
       "array(['I 265 RAMP', 'I 64 RAMP', 'ISLEWORTH', 'IAN', 'IVY OAKS',\n",
       "       'I 71 RAMP', 'I 71 SOUTH', 'I 264 RAMP', 'INDIAN HILLS',\n",
       "       'I 264 WEST', 'INNISBROOK', 'INNES TRACE', 'INDIAN RIDGE',\n",
       "       'INDIAN WOODS', 'IOLA', 'IRIS', 'INDOCIN', 'INDIAN CREST',\n",
       "       'ISABEL', 'INGLE', 'IRIS BED', 'INVERARY', 'INDIAN LEGENDS',\n",
       "       'INDIAN LAKE', 'IVYBRIDGE', 'IRON GATE', 'ITWORTH', 'IVYWOOD',\n",
       "       'INDIAN', 'ILEX', 'IDLEWOOD', 'IRVIN PINES', 'INDEPENDENCE SCHOOL',\n",
       "       'IONA', 'IRON MOUNTAIN', 'INDIAN FALLS', 'IRONWOOD', 'IONIC',\n",
       "       'I 65 RAMP', 'IDLEWYLDE', 'INDUSTRY', 'ILLINOIS', 'IOWA', 'IVY',\n",
       "       'INDIAN CREEK', 'INDIANA', 'ISAAC', 'INNIS', 'INGLESIDE',\n",
       "       'ISAAC CALDWELL', 'IVANHOE', 'INDIAN OAKS', 'IROQUOIS',\n",
       "       'INVERNESS', 'IROQUOIS GARDENS', 'IDA', 'IVAN', 'INDEPENDENCE',\n",
       "       'IVY RIDGE', 'INTERCHANGE', 'INDUSTRIAL', 'IDLE HOUR', 'IMPERIAL',\n",
       "       'INVICTA', 'INDIGO', 'INTERNATIONAL', 'INTERMODAL', 'IRON HORSE',\n",
       "       'INSPIRATION', 'ICHABOD', 'INTERLAKEN', 'INDIAN GRASS',\n",
       "       'I 71 NORTH', 'IMPATIENS', 'IMPERATOR', 'IVY CREST', 'IVY SPRINGS',\n",
       "       'ISLAND POINTE', 'I 64 EAST', 'I 264 EAST', 'I 265 SOUTH',\n",
       "       'ISABELLA VIEW', 'INTEGRITY', 'IRONGATE FARM', 'I 64 WEST',\n",
       "       'I 265 NORTH', 'INDIAN PIPE', 'I 65 SOUTH', 'I 65 NORTH',\n",
       "       'IN-265 NORTH', 'IN-265 SOUTH', 'IN-265 RAMP'], dtype=object)"
      ]
     },
     "execution_count": 36,
     "metadata": {},
     "output_type": "execute_result"
    }
   ],
   "source": [
    "XST = df.cross_street\n",
    "\n",
    "XST[XST.str.startswith('I')].unique()"
   ]
  },
  {
   "cell_type": "code",
   "execution_count": 133,
   "metadata": {},
   "outputs": [
    {
     "data": {
      "text/plain": [
       "<re.Match object; span=(0, 1), match='2'>"
      ]
     },
     "execution_count": 133,
     "metadata": {},
     "output_type": "execute_result"
    }
   ],
   "source": [
    "import re\n",
    "re.search('[0-9]', '2nd')"
   ]
  },
  {
   "cell_type": "code",
   "execution_count": 168,
   "metadata": {},
   "outputs": [
    {
     "data": {
      "text/plain": [
       "'3hello'"
      ]
     },
     "execution_count": 168,
     "metadata": {},
     "output_type": "execute_result"
    }
   ],
   "source": [
    "\n",
    "pattern = '([^0-9]*)([0-9]+)([^0-9]*)'\n",
    "digit = '[0-9]'\n",
    "\n",
    "def hasdigit(value):\n",
    "    match = re.search(digit, value)\n",
    "    if bool(match):\n",
    "        return True\n",
    "    else:\n",
    "        return False\n",
    "    \n",
    "def startswith(value):\n",
    "    match = re.search('^[0-9]', value)\n",
    "    if not match:\n",
    "        return False\n",
    "    else:\n",
    "        return match.string\n",
    "    \n",
    "startswith('3hello')\n"
   ]
  },
  {
   "cell_type": "code",
   "execution_count": 178,
   "metadata": {},
   "outputs": [
    {
     "data": {
      "text/plain": [
       "0     False\n",
       "1     False\n",
       "2     False\n",
       "3     False\n",
       "4     False\n",
       "      ...  \n",
       "80    False\n",
       "81    False\n",
       "82    False\n",
       "83    False\n",
       "84    False\n",
       "Length: 85, dtype: bool"
      ]
     },
     "execution_count": 178,
     "metadata": {},
     "output_type": "execute_result"
    }
   ],
   "source": [
    "    \n",
    "XS = df[df.cross_street.apply(hasdigit) == True].cross_street\n",
    "hasdigit_names = pd.DataFrame(XS.unique(), columns=['raw'])\n",
    "NST = pd.Series(hasdigit_names.raw.unique())\n",
    "\n",
    "NST.str.startswith(\"[0-9]\")\n",
    "\n"
   ]
  }
 ],
 "metadata": {
  "kernelspec": {
   "display_name": "venv",
   "language": "python",
   "name": "python3"
  },
  "language_info": {
   "codemirror_mode": {
    "name": "ipython",
    "version": 3
   },
   "file_extension": ".py",
   "mimetype": "text/x-python",
   "name": "python",
   "nbconvert_exporter": "python",
   "pygments_lexer": "ipython3",
   "version": "3.11.1"
  }
 },
 "nbformat": 4,
 "nbformat_minor": 2
}
