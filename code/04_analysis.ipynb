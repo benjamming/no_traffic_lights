{
 "cells": [
  {
   "cell_type": "code",
   "execution_count": 3,
   "metadata": {},
   "outputs": [
    {
     "data": {
      "text/html": [
       "<div>\n",
       "<style scoped>\n",
       "    .dataframe tbody tr th:only-of-type {\n",
       "        vertical-align: middle;\n",
       "    }\n",
       "\n",
       "    .dataframe tbody tr th {\n",
       "        vertical-align: top;\n",
       "    }\n",
       "\n",
       "    .dataframe thead th {\n",
       "        text-align: right;\n",
       "    }\n",
       "</style>\n",
       "<table border=\"1\" class=\"dataframe\">\n",
       "  <thead>\n",
       "    <tr style=\"text-align: right;\">\n",
       "      <th></th>\n",
       "      <th>longitude</th>\n",
       "      <th>latitude</th>\n",
       "      <th>row_ID</th>\n",
       "      <th>unit_ID</th>\n",
       "      <th>sig_ID</th>\n",
       "      <th>main_street</th>\n",
       "      <th>cross_street</th>\n",
       "      <th>route</th>\n",
       "      <th>milepoint</th>\n",
       "      <th>times</th>\n",
       "      <th>owner</th>\n",
       "      <th>type</th>\n",
       "      <th>int_ID</th>\n",
       "      <th>ATMSID</th>\n",
       "    </tr>\n",
       "  </thead>\n",
       "  <tbody>\n",
       "    <tr>\n",
       "      <th>0</th>\n",
       "      <td>-85.499337</td>\n",
       "      <td>38.270632</td>\n",
       "      <td>1</td>\n",
       "      <td>MPW017206</td>\n",
       "      <td>SIG017206</td>\n",
       "      <td>OLD HENRY</td>\n",
       "      <td>I 265 RAMP</td>\n",
       "      <td>KY-3084</td>\n",
       "      <td>1.250</td>\n",
       "      <td>24 HOURS</td>\n",
       "      <td>KYTC</td>\n",
       "      <td>1</td>\n",
       "      <td>76747569996</td>\n",
       "      <td>NaN</td>\n",
       "    </tr>\n",
       "    <tr>\n",
       "      <th>1</th>\n",
       "      <td>-85.498479</td>\n",
       "      <td>38.241589</td>\n",
       "      <td>2</td>\n",
       "      <td>MPW017211</td>\n",
       "      <td>SIG017211</td>\n",
       "      <td>SHELBYVILLE</td>\n",
       "      <td>BECKLEY WOODS</td>\n",
       "      <td>US-60</td>\n",
       "      <td>12.291</td>\n",
       "      <td>24 HOURS</td>\n",
       "      <td>KYTC</td>\n",
       "      <td>1</td>\n",
       "      <td>78959406728</td>\n",
       "      <td>NaN</td>\n",
       "    </tr>\n",
       "    <tr>\n",
       "      <th>2</th>\n",
       "      <td>-85.493550</td>\n",
       "      <td>38.240517</td>\n",
       "      <td>3</td>\n",
       "      <td>MPW017290</td>\n",
       "      <td>SIG017290</td>\n",
       "      <td>SHELBYVILLE</td>\n",
       "      <td>LAKE FOREST</td>\n",
       "      <td>US-60</td>\n",
       "      <td>12.580</td>\n",
       "      <td>24 HOURS</td>\n",
       "      <td>KYTC</td>\n",
       "      <td>1</td>\n",
       "      <td>123759407630</td>\n",
       "      <td>NaN</td>\n",
       "    </tr>\n",
       "    <tr>\n",
       "      <th>3</th>\n",
       "      <td>-85.570212</td>\n",
       "      <td>38.311002</td>\n",
       "      <td>4</td>\n",
       "      <td>MPW015159</td>\n",
       "      <td>SIG015159</td>\n",
       "      <td>BROWNSBORO</td>\n",
       "      <td>I 265 RAMP</td>\n",
       "      <td>KY-22</td>\n",
       "      <td>3.700</td>\n",
       "      <td>24 HOURS</td>\n",
       "      <td>KYTC</td>\n",
       "      <td>1</td>\n",
       "      <td>143907249996</td>\n",
       "      <td>NaN</td>\n",
       "    </tr>\n",
       "    <tr>\n",
       "      <th>4</th>\n",
       "      <td>-85.627965</td>\n",
       "      <td>38.283916</td>\n",
       "      <td>5</td>\n",
       "      <td>MPW011726</td>\n",
       "      <td>SIG011726</td>\n",
       "      <td>HERR</td>\n",
       "      <td>LIME KILN</td>\n",
       "      <td>KY-22</td>\n",
       "      <td>0.440</td>\n",
       "      <td>24 HOURS</td>\n",
       "      <td>KYTC</td>\n",
       "      <td>1</td>\n",
       "      <td>184229013860</td>\n",
       "      <td>NaN</td>\n",
       "    </tr>\n",
       "  </tbody>\n",
       "</table>\n",
       "</div>"
      ],
      "text/plain": [
       "   longitude   latitude  row_ID    unit_ID     sig_ID  main_street  \\\n",
       "0 -85.499337  38.270632       1  MPW017206  SIG017206    OLD HENRY   \n",
       "1 -85.498479  38.241589       2  MPW017211  SIG017211  SHELBYVILLE   \n",
       "2 -85.493550  38.240517       3  MPW017290  SIG017290  SHELBYVILLE   \n",
       "3 -85.570212  38.311002       4  MPW015159  SIG015159   BROWNSBORO   \n",
       "4 -85.627965  38.283916       5  MPW011726  SIG011726         HERR   \n",
       "\n",
       "    cross_street    route  milepoint     times owner  type          int_ID  \\\n",
       "0     I 265 RAMP  KY-3084      1.250  24 HOURS  KYTC     1     76747569996   \n",
       "1  BECKLEY WOODS    US-60     12.291  24 HOURS  KYTC     1     78959406728   \n",
       "2    LAKE FOREST    US-60     12.580  24 HOURS  KYTC     1    123759407630   \n",
       "3     I 265 RAMP    KY-22      3.700  24 HOURS  KYTC     1    143907249996   \n",
       "4      LIME KILN    KY-22      0.440  24 HOURS  KYTC     1    184229013860   \n",
       "\n",
       "   ATMSID  \n",
       "0     NaN  \n",
       "1     NaN  \n",
       "2     NaN  \n",
       "3     NaN  \n",
       "4     NaN  "
      ]
     },
     "execution_count": 3,
     "metadata": {},
     "output_type": "execute_result"
    }
   ],
   "source": [
    "import pandas as pd\n",
    "from os import path\n",
    "\n",
    "DATA_IN = '../data/clean/signals.csv' \n",
    "assert path.exists(DATA_IN)\n",
    "\n",
    "df = pd.read_csv(DATA_IN, index_col=0)\n",
    "df.head()\n"
   ]
  },
  {
   "cell_type": "code",
   "execution_count": 6,
   "metadata": {},
   "outputs": [
    {
     "data": {
      "text/plain": [
       "124            W MAIN ST\n",
       "210    W BRECKINRIDGE ST\n",
       "380            W MAIN ST\n",
       "402        W BURNETT AVE\n",
       "534            W MAIN ST\n",
       "666        W CHESTNUT ST\n",
       "735           W BROADWAY\n",
       "Name: main_street, dtype: object"
      ]
     },
     "execution_count": 6,
     "metadata": {},
     "output_type": "execute_result"
    }
   ],
   "source": [
    "df[df.main_street.str.startswith('W ')].main_street"
   ]
  },
  {
   "cell_type": "code",
   "execution_count": 23,
   "metadata": {},
   "outputs": [
    {
     "data": {
      "text/plain": [
       "main_street\n",
       "BARDSTOWN        58\n",
       "BROADWAY         36\n",
       "DIXIE            32\n",
       "CHESTNUT         27\n",
       "BROWNSBORO       21\n",
       "                 ..\n",
       "BEULAH CHURCH     2\n",
       "COOPER CHAPEL     2\n",
       "ANTLE             2\n",
       "22ND              2\n",
       "BELMAR            2\n",
       "Name: cross_street, Length: 150, dtype: int64"
      ]
     },
     "execution_count": 23,
     "metadata": {},
     "output_type": "execute_result"
    }
   ],
   "source": [
    "thorofare = df.groupby('main_street')['cross_street'].size().sort_values(ascending=False)\n",
    "\n",
    "thorofare[thorofare.values > 1]"
   ]
  },
  {
   "cell_type": "code",
   "execution_count": 1,
   "metadata": {},
   "outputs": [
    {
     "ename": "NameError",
     "evalue": "name 'df' is not defined",
     "output_type": "error",
     "traceback": [
      "\u001b[0;31m---------------------------------------------------------------------------\u001b[0m",
      "\u001b[0;31mNameError\u001b[0m                                 Traceback (most recent call last)",
      "\u001b[1;32m/Users/bencampbell/code/no_traffic_lights/code/04_analysis.ipynb Cell 1\u001b[0m line \u001b[0;36m1\n\u001b[0;32m----> <a href='vscode-notebook-cell:/Users/bencampbell/code/no_traffic_lights/code/04_analysis.ipynb#W0sZmlsZQ%3D%3D?line=0'>1</a>\u001b[0m df[df\u001b[39m.\u001b[39mTIMES \u001b[39m==\u001b[39m \u001b[39m'\u001b[39m\u001b[39mACTUATED\u001b[39m\u001b[39m'\u001b[39m]\n",
      "\u001b[0;31mNameError\u001b[0m: name 'df' is not defined"
     ]
    }
   ],
   "source": [
    "df[df.TIMES == 'ACTUATED']\n",
    "\n",
    "result = df[df.INTID == \"2\"][['INTID', 'SIGID']]\n",
    "\n"
   ]
  }
 ],
 "metadata": {
  "kernelspec": {
   "display_name": "venv",
   "language": "python",
   "name": "python3"
  },
  "language_info": {
   "codemirror_mode": {
    "name": "ipython",
    "version": 3
   },
   "file_extension": ".py",
   "mimetype": "text/x-python",
   "name": "python",
   "nbconvert_exporter": "python",
   "pygments_lexer": "ipython3",
   "version": "3.11.1"
  }
 },
 "nbformat": 4,
 "nbformat_minor": 2
}
